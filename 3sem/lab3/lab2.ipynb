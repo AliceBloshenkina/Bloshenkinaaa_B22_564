{
 "cells": [
  {
   "cell_type": "code",
   "execution_count": 1,
   "metadata": {
    "scrolled": true
   },
   "outputs": [],
   "source": [
    "import cv2\n",
    "import numpy as np\n",
    "\n",
    "image = cv2.imread('face.bmp', cv2.IMREAD_GRAYSCALE)\n",
    "\n",
    "if image is None:\n",
    "    print(\"Ошибка: Невозможно загрузить изображение.\")\n",
    "    exit()\n",
    "\n",
    "kernel_square = np.ones((5, 5), np.float32)\n",
    "kernel_cross = np.array([[0, 0, 1, 0, 0],\n",
    "                         [0, 0, 1, 0, 0],\n",
    "                         [1, 1, 1, 1, 1],\n",
    "                         [0, 0, 1, 0, 0],\n",
    "                         [0, 0, 1, 0, 0]], dtype=np.uint8)\n",
    "kernel_diagonal = np.array([[1, 0, 0, 0, 1],\n",
    "                            [0, 1, 0, 1, 0],\n",
    "                            [0, 0, 1, 0, 0],\n",
    "                            [0, 1, 0, 1, 0],\n",
    "                            [1, 0, 0, 0, 1]], dtype=np.uint8)\n",
    "\n",
    "def median_filter_custom(image, kernel):\n",
    "    padded_image = cv2.copyMakeBorder(image, 2, 2, 2, 2, cv2.BORDER_REPLICATE)\n",
    "    result = np.zeros_like(image)\n",
    "    for y in range(2, padded_image.shape[0] - 2):\n",
    "        for x in range(2, padded_image.shape[1] - 2):\n",
    "            window = padded_image[y - 2:y + 3, x - 2:x + 3]\n",
    "            non_zero_elements = window[kernel == 1]\n",
    "            if len(non_zero_elements) > 0:\n",
    "                result[y - 2, x - 2] = np.median(non_zero_elements)\n",
    "            else:\n",
    "                result[y - 2, x - 2] = 0  # Если окно пустое, просто установим значение в 0\n",
    "    return result\n",
    "\n",
    "filtered_image_square = median_filter_custom(image, kernel_square)\n",
    "filtered_image_cross = median_filter_custom(image, kernel_cross)\n",
    "filtered_image_diagonal = median_filter_custom(image, kernel_diagonal)\n",
    "\n",
    "difference_image = np.abs(filtered_image_square - filtered_image_cross)\n",
    "\n",
    "cv2.imshow('Original Image', image)\n",
    "cv2.imshow('Filtered Image (Square Kernel)', filtered_image_square)\n",
    "cv2.imshow('Filtered Image (Cross Kernel)', filtered_image_cross)\n",
    "cv2.imshow('Filtered Image (Diagonal Kernel)', filtered_image_diagonal)\n",
    "cv2.imshow('Difference Image', difference_image)\n",
    "cv2.waitKey(0)\n",
    "cv2.destroyAllWindows()\n"
   ]
  },
  {
   "cell_type": "code",
   "execution_count": null,
   "metadata": {},
   "outputs": [],
   "source": []
  },
  {
   "cell_type": "code",
   "execution_count": null,
   "metadata": {},
   "outputs": [],
   "source": []
  },
  {
   "cell_type": "code",
   "execution_count": null,
   "metadata": {},
   "outputs": [],
   "source": []
  }
 ],
 "metadata": {
  "kernelspec": {
   "display_name": "Python 3 (ipykernel)",
   "language": "python",
   "name": "python3"
  },
  "language_info": {
   "codemirror_mode": {
    "name": "ipython",
    "version": 3
   },
   "file_extension": ".py",
   "mimetype": "text/x-python",
   "name": "python",
   "nbconvert_exporter": "python",
   "pygments_lexer": "ipython3",
   "version": "3.10.0"
  }
 },
 "nbformat": 4,
 "nbformat_minor": 4
}
