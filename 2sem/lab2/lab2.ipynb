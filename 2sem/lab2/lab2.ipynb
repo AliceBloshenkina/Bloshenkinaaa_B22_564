{
 "cells": [
  {
   "cell_type": "code",
   "execution_count": 3,
   "metadata": {},
   "outputs": [],
   "source": [
    "from PIL import Image\n",
    "import os\n",
    "import numpy as np\n",
    "\n",
    "def convert_to_grayscale(image_path):\n",
    "    img = Image.open(image_path)\n",
    "    img = img.convert('RGB') \n",
    "    width, height = img.size\n",
    "    \n",
    "    grayscale_img = Image.new('L', (width, height))\n",
    "  \n",
    "    pixels = img.load()\n",
    "    \n",
    "    for x in range(width):\n",
    "        for y in range(height):\n",
    "            r, g, b = pixels[x, y]\n",
    "            gray = int((r + g + b) / 3)\n",
    "            grayscale_img.putpixel((x, y), gray)\n",
    "     \n",
    "\n",
    "    grayscale_image_path = \"grayscale_\" + os.path.basename(image_path)\n",
    "    grayscale_img.save(grayscale_image_path, format='BMP')\n",
    "    img.show()\n",
    "    grayscale_img.show()\n",
    "    \n",
    "    return grayscale_image_path\n",
    "\n",
    "def balanced_histogram_thresholding(image_path):\n",
    "    img = Image.open(image_path)\n",
    "    img_array = np.array(img.convert('L'))\n",
    "    width, height = img.size\n",
    "    \n",
    "    hist = np.histogram(img_array, bins=256, range=(0, 255))[0]\n",
    "    \n",
    "    i_min = 0\n",
    "    i_max = 255\n",
    "    \n",
    "    while i_min < i_max:\n",
    "        s_left = sum(hist[i_min:i_max+1])\n",
    "        s_right = sum(hist[i_min:i_max+1])\n",
    "        \n",
    "        if s_left > s_right:\n",
    "            i_min += 1\n",
    "        elif s_right > s_left:\n",
    "            i_max -= 1\n",
    "        else:\n",
    "            break\n",
    "    \n",
    "    threshold = (i_min + i_max) // 2\n",
    "    \n",
    "    thresholded_img = img.point(lambda p: 255 if p > threshold else 0)\n",
    "    thresholded_img.save(\"balanced_thresholded_\" + os.path.basename(image_path))\n",
    "    img.show()\n",
    "    thresholded_img.show()\n",
    "\n",
    "if __name__ == \"__main__\":\n",
    "    grayscale_image_path = convert_to_grayscale(\"input_img.png\")\n",
    "    balanced_histogram_thresholding(grayscale_image_path)\n"
   ]
  },
  {
   "cell_type": "code",
   "execution_count": null,
   "metadata": {},
   "outputs": [],
   "source": []
  }
 ],
 "metadata": {
  "kernelspec": {
   "display_name": "Python 3 (ipykernel)",
   "language": "python",
   "name": "python3"
  },
  "language_info": {
   "codemirror_mode": {
    "name": "ipython",
    "version": 3
   },
   "file_extension": ".py",
   "mimetype": "text/x-python",
   "name": "python",
   "nbconvert_exporter": "python",
   "pygments_lexer": "ipython3",
   "version": "3.10.0"
  }
 },
 "nbformat": 4,
 "nbformat_minor": 4
}
