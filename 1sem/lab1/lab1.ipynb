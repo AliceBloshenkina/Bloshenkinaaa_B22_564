{
 "cells": [
  {
   "cell_type": "code",
   "execution_count": 3,
   "metadata": {},
   "outputs": [
    {
     "name": "stdout",
     "output_type": "stream",
     "text": [
      "Выберите операцию: 1)Интерполяция 2)Децимация 3)Двухпроходная передискретизация 4)Однопроходная передискретизация\n"
     ]
    },
    {
     "name": "stdin",
     "output_type": "stream",
     "text": [
      ">  1\n"
     ]
    },
    {
     "name": "stdout",
     "output_type": "stream",
     "text": [
      "Введите целый коэффициент растяжения\n"
     ]
    },
    {
     "name": "stdin",
     "output_type": "stream",
     "text": [
      ">  2\n"
     ]
    }
   ],
   "source": [
    "from PIL import Image\n",
    "import numpy as np\n",
    "from os import path\n",
    "import cv2\n",
    "\n",
    "def image_to_np_array(image_name: str) -> np.array:\n",
    "    img_src = Image.open(path.join(image_name)).convert('RGB')\n",
    "    return np.array(img_src)\n",
    "\n",
    "def two_step_resampling(img: np.array, numerator: int, denominator: int) -> np.array:\n",
    "    tmp = one_step_resampling(img, numerator, lambda a, b: a * b, lambda a, b: int(round(a / b)))\n",
    "    return one_step_resampling(tmp, denominator, lambda a, b: int(round(a / b)), lambda a, b: a * b)\n",
    "\n",
    "def one_step_resampling(img: np.array, factor: float, f1, f2):\n",
    "    dimensions = img.shape[0:2]\n",
    "    new_dimensions = tuple(f1(dimension, factor) for dimension in dimensions)\n",
    "    new_shape = (*new_dimensions, img.shape[2])\n",
    "    new_img = np.empty(new_shape)\n",
    "\n",
    "    for x in range(new_dimensions[0]):\n",
    "        for y in range(new_dimensions[1]):\n",
    "            new_img[x, y] = img[min(f2(x, factor), dimensions[0] - 1), min(f2(y, factor), dimensions[1] - 1)]\n",
    "    return new_img\n",
    "\n",
    "def safe_number_input(number_type: type, lower_bound=None, upper_bound=None):\n",
    "    input_correct = False\n",
    "    user_input = 0\n",
    "\n",
    "    while not input_correct:\n",
    "        try:\n",
    "            user_input = number_type(input('> '))\n",
    "            if lower_bound is not None and user_input < lower_bound:\n",
    "                raise ValueError\n",
    "            if upper_bound is not None and user_input > upper_bound:\n",
    "                raise ValueError\n",
    "            input_correct = True\n",
    "        except ValueError:\n",
    "            print(\"Введите корректное значение\")\n",
    "    return user_input\n",
    "\n",
    "def execute(img, f1, f2, number_type=int):\n",
    "    data_type = np.uint8\n",
    "    color_model = 'RGB'\n",
    "\n",
    "    factor = safe_number_input(number_type, 0.5)\n",
    "    result = Image.fromarray(one_step_resampling(img, factor, f1, f2).astype(data_type), color_model)\n",
    "\n",
    "    return result\n",
    "\n",
    "\n",
    "if __name__ == '__main__':\n",
    "    img = image_to_np_array('img.png')\n",
    "\n",
    "    print('Выберите операцию: 1)Интерполяция 2)Децимация 3)Двухпроходная передискретизация 4)Однопроходная передискретизация')\n",
    "    enter = int(input('> '))\n",
    "    \n",
    "\n",
    "    match enter:\n",
    "        case 1:\n",
    "            print('Введите целый коэффициент растяжения')\n",
    "            result = execute(img, lambda a, b: a * b, lambda a, b: int(round(a / b)))\n",
    "\n",
    "        case 2:\n",
    "            print('Введите целый коэффициент сжатия')\n",
    "            result = execute(img, lambda a, b: int(round(a / b)), lambda a, b: a * b)\n",
    "\n",
    "        case 3:\n",
    "            print('Введите целый коэффициент растяжения')\n",
    "            numerator = safe_number_input(int, 1)\n",
    "\n",
    "            print('Введите целый коэффициент сжатия')\n",
    "            denominator = safe_number_input(int, 1)\n",
    "\n",
    "            args = [numerator, denominator]\n",
    "            result = Image.fromarray(two_step_resampling(img, *args).astype(np.uint8), 'RGB')\n",
    "\n",
    "        case 4:\n",
    "            print('Введите дробный коэффициент растяжения/сжатия')\n",
    "            result = execute(img, lambda a, b: int(round(a * b)), lambda a, b: int(round(a / b)), float)\n",
    "\n",
    "        case _:\n",
    "            exit()\n",
    "\n",
    "\n",
    "\n",
    "    result_array = np.array(result)\n",
    "    cv2.imshow('Orig', img)\n",
    "    cv2.imshow('Image', result_array)\n",
    "    cv2.waitKey(0)  \n",
    "    cv2.destroyAllWindows()"
   ]
  },
  {
   "cell_type": "code",
   "execution_count": null,
   "metadata": {},
   "outputs": [],
   "source": []
  }
 ],
 "metadata": {
  "kernelspec": {
   "display_name": "Python 3 (ipykernel)",
   "language": "python",
   "name": "python3"
  },
  "language_info": {
   "codemirror_mode": {
    "name": "ipython",
    "version": 3
   },
   "file_extension": ".py",
   "mimetype": "text/x-python",
   "name": "python",
   "nbconvert_exporter": "python",
   "pygments_lexer": "ipython3",
   "version": "3.10.0"
  }
 },
 "nbformat": 4,
 "nbformat_minor": 4
}
