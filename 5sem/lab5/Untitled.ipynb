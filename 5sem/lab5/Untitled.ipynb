{
 "cells": [
  {
   "cell_type": "code",
   "execution_count": 4,
   "id": "292ab360-c53c-4353-b6be-3608954b2f3d",
   "metadata": {},
   "outputs": [
    {
     "name": "stdout",
     "output_type": "stream",
     "text": [
      "Файл успешно переименован с hello.png на Ñ.png\n"
     ]
    }
   ],
   "source": [
    "import os\n",
    "\n",
    "new_filename = 'Ñ.png'\n",
    "\n",
    "old_filename = 'hello.png'\n",
    "\n",
    "\n",
    "if os.path.exists(old_filename):\n",
    "    try:\n",
    "        os.rename(old_filename, new_filename)\n",
    "        print(f\"Файл успешно переименован с {old_filename} на {new_filename}\")\n",
    "    except Exception as e:\n",
    "        print(f\"Ошибка при переименовании файла: {e}\")\n",
    "else:\n",
    "    print(f\"Файл {old_filename} не существует.\")\n"
   ]
  },
  {
   "cell_type": "code",
   "execution_count": null,
   "id": "85e4940c-9c55-4310-9914-2f5d8a8e36a9",
   "metadata": {},
   "outputs": [],
   "source": []
  }
 ],
 "metadata": {
  "kernelspec": {
   "display_name": "Python 3 (ipykernel)",
   "language": "python",
   "name": "python3"
  },
  "language_info": {
   "codemirror_mode": {
    "name": "ipython",
    "version": 3
   },
   "file_extension": ".py",
   "mimetype": "text/x-python",
   "name": "python",
   "nbconvert_exporter": "python",
   "pygments_lexer": "ipython3",
   "version": "3.10.0"
  }
 },
 "nbformat": 4,
 "nbformat_minor": 5
}
