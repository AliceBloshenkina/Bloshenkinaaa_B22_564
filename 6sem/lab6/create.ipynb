{
 "cells": [
  {
   "cell_type": "code",
   "execution_count": 1,
   "id": "77407f7b-5e14-4c1c-ad43-bb138b494cf8",
   "metadata": {},
   "outputs": [
    {
     "name": "stdout",
     "output_type": "stream",
     "text": [
      "Image saved to image.png\n"
     ]
    }
   ],
   "source": [
    "from PIL import Image, ImageDraw, ImageFont\n",
    "import numpy as np\n",
    "\n",
    "def create_image(phrase, font_path, font_size, output_path):\n",
    "    font = ImageFont.truetype(font_path, font_size)\n",
    "    image = Image.new('L', (1600, 400), 'white') \n",
    "    draw = ImageDraw.Draw(image)\n",
    "    \n",
    "    bbox = draw.textbbox((0, 0), phrase, font=font)\n",
    "    w, h = bbox[2] - bbox[0], bbox[3] - bbox[1]\n",
    "    \n",
    "    draw.text(((1600 - w) / 2, (400 - h) / 2), phrase, 'black', font=font)\n",
    "    \n",
    "    bbox = image.getbbox()\n",
    "    cropped_image = image.crop(bbox)\n",
    "    cropped_image.save(output_path)\n",
    "\n",
    "phrase = \"EL INFIERNO ESTA VACIO TODOS LOS DEMONIOS ESTAÑ AQUI\"\n",
    "font_path = 'times_new_roman.ttf'  \n",
    "font_size = 52\n",
    "output_path = 'image.png'\n",
    "\n",
    "create_image(phrase, font_path, font_size, output_path)\n",
    "print(f\"Image saved to {output_path}\")\n"
   ]
  },
  {
   "cell_type": "code",
   "execution_count": 2,
   "id": "5685df68-3194-49dc-b6e9-52860562c4b2",
   "metadata": {},
   "outputs": [
    {
     "name": "stdout",
     "output_type": "stream",
     "text": [
      "Monochrome image save to image_mono.png\n"
     ]
    }
   ],
   "source": [
    "def save_as_monochrome(input_path, output_path):\n",
    "    image = Image.open(input_path).convert('1')\n",
    "    image.save(output_path)\n",
    "\n",
    "input_path = 'image.png'\n",
    "output_path = 'image_mono.png'\n",
    "\n",
    "save_as_monochrome(input_path, output_path)\n",
    "print(f\"Monochrome image save to {output_path}\")\n"
   ]
  },
  {
   "cell_type": "code",
   "execution_count": 3,
   "id": "7e642ec7-683b-48bd-80d6-0f87df5ef7eb",
   "metadata": {},
   "outputs": [
    {
     "name": "stdout",
     "output_type": "stream",
     "text": [
      "Image converted to BMP and saved to img.bmp\n"
     ]
    }
   ],
   "source": [
    "from PIL import Image\n",
    "\n",
    "def convert_png_to_bmp(input_path, output_path):\n",
    "    image = Image.open(input_path)\n",
    "    image.save(output_path, 'BMP')\n",
    "\n",
    "input_path = 'image_mono.png'\n",
    "output_path = 'img.bmp'\n",
    "\n",
    "convert_png_to_bmp(input_path, output_path)\n",
    "print(f\"Image converted to BMP and saved to {output_path}\")\n"
   ]
  },
  {
   "cell_type": "code",
   "execution_count": 5,
   "id": "71983d45-423a-4308-8f82-4ba3e6967100",
   "metadata": {},
   "outputs": [
    {
     "name": "stdout",
     "output_type": "stream",
     "text": [
      "Image saved to image.png\n",
      "Monochrome image saved to image_mono.png\n",
      "Image converted to BMP and saved to img.bmp\n"
     ]
    }
   ],
   "source": [
    "from PIL import Image, ImageDraw, ImageFont\n",
    "\n",
    "def create_image(phrase, font_path, font_size, output_path):\n",
    "    font = ImageFont.truetype(font_path, font_size)\n",
    "    image = Image.new('L', (1600, 400), 'white') \n",
    "    draw = ImageDraw.Draw(image)\n",
    "    \n",
    "    bbox = draw.textbbox((0, 0), phrase, font=font)\n",
    "    w, h = bbox[2] - bbox[0], bbox[3] - bbox[1]\n",
    "    \n",
    "    draw.text(((1600 - w) / 2, (400 - h) / 2), phrase, 'black', font=font)\n",
    "    \n",
    "    bbox = image.getbbox()\n",
    "    cropped_image = image.crop(bbox)\n",
    "    cropped_image.save(output_path)\n",
    "\n",
    "phrase = \"EL INFIERNO ESTA VACIO TODOS LOS DEMONIOS ESTAÑ AQUI\"\n",
    "font_path = 'times_new_roman.ttf'  \n",
    "font_size = 52\n",
    "output_path = 'image.png'\n",
    "\n",
    "create_image(phrase, font_path, font_size, output_path)\n",
    "print(f\"Image saved to {output_path}\")\n",
    "\n",
    "def save_as_monochrome(input_path, output_path):\n",
    "    image = Image.open(input_path).convert('1')\n",
    "    image.save(output_path)\n",
    "\n",
    "input_path = 'image.png'\n",
    "output_path = 'image_mono.png'\n",
    "\n",
    "save_as_monochrome(input_path, output_path)\n",
    "print(f\"Monochrome image saved to {output_path}\")\n",
    "\n",
    "from PIL import Image\n",
    "\n",
    "def convert_png_to_bmp(input_path, output_path):\n",
    "    image = Image.open(input_path)\n",
    "    image.save(output_path, 'BMP')\n",
    "\n",
    "input_path = 'image_mono.png'\n",
    "output_path = 'img.bmp'\n",
    "\n",
    "convert_png_to_bmp(input_path, output_path)\n",
    "print(f\"Image converted to BMP and saved to {output_path}\")\n"
   ]
  },
  {
   "cell_type": "code",
   "execution_count": null,
   "id": "96c42a38-e9f0-4bb8-82cc-c79a92af7af7",
   "metadata": {},
   "outputs": [],
   "source": []
  }
 ],
 "metadata": {
  "kernelspec": {
   "display_name": "Python 3 (ipykernel)",
   "language": "python",
   "name": "python3"
  },
  "language_info": {
   "codemirror_mode": {
    "name": "ipython",
    "version": 3
   },
   "file_extension": ".py",
   "mimetype": "text/x-python",
   "name": "python",
   "nbconvert_exporter": "python",
   "pygments_lexer": "ipython3",
   "version": "3.10.0"
  }
 },
 "nbformat": 4,
 "nbformat_minor": 5
}