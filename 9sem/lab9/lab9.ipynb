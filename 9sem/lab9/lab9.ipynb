{
 "cells": [
  {
   "cell_type": "code",
   "execution_count": 2,
   "id": "fcd05956-5955-4c97-85ac-965e8f9d67a3",
   "metadata": {},
   "outputs": [
    {
     "data": {
      "text/plain": [
       "<Figure size 640x480 with 0 Axes>"
      ]
     },
     "metadata": {},
     "output_type": "display_data"
    },
    {
     "data": {
      "text/plain": [
       "<Figure size 640x480 with 0 Axes>"
      ]
     },
     "metadata": {},
     "output_type": "display_data"
    },
    {
     "data": {
      "text/plain": [
       "<Figure size 640x480 with 0 Axes>"
      ]
     },
     "metadata": {},
     "output_type": "display_data"
    },
    {
     "data": {
      "text/plain": [
       "<Figure size 640x480 with 0 Axes>"
      ]
     },
     "metadata": {},
     "output_type": "display_data"
    },
    {
     "data": {
      "text/plain": [
       "<Figure size 640x480 with 0 Axes>"
      ]
     },
     "metadata": {},
     "output_type": "display_data"
    }
   ],
   "source": [
    "import scipy.io.wavfile as wav\n",
    "import matplotlib.pyplot as plt\n",
    "from scipy import signal\n",
    "import numpy as np\n",
    "\n",
    "def plot_spectrogram(sample_rate, audio_data, filename):\n",
    "    frequencies, times, Sxx = signal.spectrogram(audio_data, sample_rate, window='hann')\n",
    "    plt.figure()\n",
    "    plt.pcolormesh(times, frequencies, 10 * np.log10(Sxx + 1e-10)) \n",
    "    plt.ylabel('Frequency [Hz]')\n",
    "    plt.xlabel('Time [sec]')\n",
    "    plt.yscale('log')\n",
    "    plt.colorbar(label='Intensity [dB]')\n",
    "    plt.savefig('spectrogram_' + filename + '.png')\n",
    "    plt.clf()\n",
    "    return Sxx, frequencies, times\n",
    "\n",
    "def apply_savitzky_golay(audio_data, window_length, polyorder):\n",
    "    return signal.savgol_filter(audio_data, window_length, polyorder)\n",
    "\n",
    "def apply_butterworth(audio_data, cutoff_freq, sample_rate, order=5):\n",
    "    nyquist = 0.5 * sample_rate\n",
    "    normal_cutoff = cutoff_freq / nyquist\n",
    "    b, a = signal.butter(order, normal_cutoff, btype='low', analog=False)\n",
    "    return signal.filtfilt(b, a, audio_data)\n",
    "\n",
    "def apply_wiener(audio_data, mysize=29, noise=None):\n",
    "    return signal.wiener(audio_data, mysize=mysize, noise=noise)\n",
    "\n",
    "def detect_peaks(Sxx, frequencies, times, time_delta=0.1, freq_delta=50):\n",
    "    peaks = []\n",
    "    for i in range(len(frequencies)):\n",
    "        for j in range(len(times)):\n",
    "            if Sxx[i, j] == Sxx[i, max(0, j - 1): min(len(times), j + 2)].max():\n",
    "                if Sxx[i, j] == Sxx[max(0, i - 1): min(len(frequencies), i + 2), j].max():\n",
    "                    peaks.append((times[j], frequencies[i]))\n",
    "    return peaks\n",
    "\n",
    "def main():\n",
    "    sample_rate, audio_data = wav.read('music.wav')\n",
    "    audio_data = audio_data.flatten()  # Ensure it is a 1D array\n",
    "    plot_spectrogram(sample_rate, audio_data, 'original')\n",
    "\n",
    "    audio_savgol = apply_savitzky_golay(audio_data, window_length=101, polyorder=3)\n",
    "    audio_butter = apply_butterworth(audio_savgol, cutoff_freq=1000, sample_rate=sample_rate, order=3)\n",
    "    audio_wiener = apply_wiener(audio_butter)\n",
    "\n",
    "    plot_spectrogram(sample_rate, audio_savgol, 'filtered_savgol')\n",
    "    plot_spectrogram(sample_rate, audio_butter, 'filtered_butter')\n",
    "    plot_spectrogram(sample_rate, audio_wiener, 'filtered_wiener')\n",
    "\n",
    "    wav.write('filtered_savgol.wav', sample_rate, audio_savgol.astype(np.int16))\n",
    "    wav.write('filtered_butter.wav', sample_rate, audio_butter.astype(np.int16))\n",
    "    wav.write('filtered_wiener.wav', sample_rate, audio_wiener.astype(np.int16))\n",
    "\n",
    "    Sxx, frequencies, times = plot_spectrogram(sample_rate, audio_wiener, 'denoised')\n",
    "    peaks = detect_peaks(Sxx, frequencies, times)\n",
    "\n",
    "    with open('peaks.txt', 'w') as f:\n",
    "        for peak in peaks:\n",
    "            f.write(f\"Time: {peak[0]}, Frequency: {peak[1]}\\n\")\n",
    "\n",
    "if __name__ == \"__main__\":\n",
    "    main()\n"
   ]
  },
  {
   "cell_type": "code",
   "execution_count": null,
   "id": "137ad2ec-4da5-4f32-a80d-d09f779cce59",
   "metadata": {},
   "outputs": [],
   "source": []
  }
 ],
 "metadata": {
  "kernelspec": {
   "display_name": "Python 3 (ipykernel)",
   "language": "python",
   "name": "python3"
  },
  "language_info": {
   "codemirror_mode": {
    "name": "ipython",
    "version": 3
   },
   "file_extension": ".py",
   "mimetype": "text/x-python",
   "name": "python",
   "nbconvert_exporter": "python",
   "pygments_lexer": "ipython3",
   "version": "3.10.0"
  }
 },
 "nbformat": 4,
 "nbformat_minor": 5
}
